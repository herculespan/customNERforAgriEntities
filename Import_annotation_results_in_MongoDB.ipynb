{
 "cells": [
  {
   "cell_type": "code",
   "execution_count": null,
   "id": "ed6f688c",
   "metadata": {},
   "outputs": [],
   "source": [
    "import requests, pymongo, re"
   ]
  },
  {
   "cell_type": "code",
   "execution_count": null,
   "id": "c7d55844",
   "metadata": {},
   "outputs": [],
   "source": [
    "connectionStr = \"mongodb+srv://<username>:<password>@testcorpus.tj5ah.mongodb.net/testDatabase?retryWrites=true&w=majority\""
   ]
  },
  {
   "cell_type": "code",
   "execution_count": null,
   "id": "b93c205b",
   "metadata": {},
   "outputs": [],
   "source": [
    "myClient = pymongo.MongoClient(connectionStr, serverSelectionTimeoutMS = 15000)"
   ]
  },
  {
   "cell_type": "code",
   "execution_count": null,
   "id": "f0c9aab3",
   "metadata": {},
   "outputs": [],
   "source": [
    "try:\n",
    "    print(myClient.server_info())\n",
    "except Exception:\n",
    "    print(\"Unable to establish connection to the server!\")"
   ]
  },
  {
   "cell_type": "code",
   "execution_count": null,
   "id": "1a634411",
   "metadata": {},
   "outputs": [],
   "source": [
    "mydb = myClient.testDatabase"
   ]
  },
  {
   "cell_type": "code",
   "execution_count": null,
   "id": "91e8006f",
   "metadata": {},
   "outputs": [],
   "source": [
    "collectionName = input(\"Type in the name of the collection to access: \")"
   ]
  },
  {
   "cell_type": "code",
   "execution_count": null,
   "id": "87cd59d3",
   "metadata": {},
   "outputs": [],
   "source": [
    "myCollection = mydb[collectionName]"
   ]
  },
  {
   "cell_type": "code",
   "execution_count": null,
   "id": "b470d78b",
   "metadata": {},
   "outputs": [],
   "source": [
    "myCollection"
   ]
  },
  {
   "cell_type": "code",
   "execution_count": null,
   "id": "d1a5d00e",
   "metadata": {},
   "outputs": [],
   "source": [
    "tagtogAPIUrl = \"https://www.tagtog.net/-api/documents/v1\""
   ]
  },
  {
   "cell_type": "code",
   "execution_count": null,
   "id": "8e0e03a5",
   "metadata": {},
   "outputs": [],
   "source": [
    "auth = requests.auth.HTTPBasicAuth(username = \"my_username\", password = \"my_password\")"
   ]
  },
  {
   "cell_type": "code",
   "execution_count": null,
   "id": "9381862d",
   "metadata": {},
   "outputs": [],
   "source": [
    "projectName = input(\"Type in the name of the project: \")"
   ]
  },
  {
   "cell_type": "code",
   "execution_count": null,
   "id": "dcf064a8",
   "metadata": {},
   "outputs": [],
   "source": [
    "annotator = input(\"Type in the user name of the annotator: \")"
   ]
  },
  {
   "cell_type": "code",
   "execution_count": null,
   "id": "2fdbca13",
   "metadata": {},
   "outputs": [],
   "source": [
    "searchValue = \"members_anncomplete:\" + annotator"
   ]
  },
  {
   "cell_type": "code",
   "execution_count": null,
   "id": "e04d373e",
   "metadata": {},
   "outputs": [],
   "source": [
    "queryParams = {\n",
    "        \"owner\": \"herculespan\",\n",
    "        \"project\": projectName,\n",
    "        \"member\": annotator,\n",
    "        \"search\": searchValue,\n",
    "        \"output\": \"csv\"\n",
    "}  \n",
    "\n",
    "queryResponse = requests.get(tagtogAPIUrl, auth = auth, params = queryParams)\n",
    "print(queryResponse.status_code)"
   ]
  },
  {
   "cell_type": "code",
   "execution_count": null,
   "id": "b4a63a41",
   "metadata": {},
   "outputs": [],
   "source": [
    "#print(queryResponse.text)"
   ]
  },
  {
   "cell_type": "code",
   "execution_count": null,
   "id": "3e241da4",
   "metadata": {},
   "outputs": [],
   "source": [
    "doc = queryResponse.text \n",
    "doc = re.sub(\"docid,anncomplete\", \" \", doc)\n",
    "doc = re.sub(\",false\", \" \", doc)"
   ]
  },
  {
   "cell_type": "code",
   "execution_count": null,
   "id": "87faa313",
   "metadata": {},
   "outputs": [],
   "source": [
    "#print(doc)"
   ]
  },
  {
   "cell_type": "code",
   "execution_count": null,
   "id": "76448f21",
   "metadata": {},
   "outputs": [],
   "source": [
    "docs = doc.split(\" \")"
   ]
  },
  {
   "cell_type": "code",
   "execution_count": null,
   "id": "6219ebb2",
   "metadata": {},
   "outputs": [],
   "source": [
    "#queryResponseDict = queryResponse.json()\n",
    "#fulldocIDs = []\n",
    "#for key in queryResponseDict.keys():\n",
    "    #if key == \"docs\":\n",
    "        #for doc in queryResponseDict[key]:\n",
    "            #fulldocIDs.append(doc[\"id\"])"
   ]
  },
  {
   "cell_type": "code",
   "execution_count": null,
   "id": "166cc64f",
   "metadata": {},
   "outputs": [],
   "source": [
    "#for doc in docs:\n",
    "    #print(doc)"
   ]
  },
  {
   "cell_type": "code",
   "execution_count": null,
   "id": "2b6fdfb1",
   "metadata": {},
   "outputs": [],
   "source": [
    "docIDs = []\n",
    "fulldocIDs = []\n",
    "for doc in docs:\n",
    "    if doc != \"\":\n",
    "        if doc != \"\\n\":\n",
    "            text = doc\n",
    "            text = re.sub(\"\\n\", \"\", text)\n",
    "            fulldocIDs.append(text)\n",
    "            docIDs.append(doc.split(\".txt\")[0].split(\"-\")[-1])"
   ]
  },
  {
   "cell_type": "code",
   "execution_count": null,
   "id": "db73f7c1",
   "metadata": {},
   "outputs": [],
   "source": [
    "len(docIDs)"
   ]
  },
  {
   "cell_type": "code",
   "execution_count": null,
   "id": "4d28364a",
   "metadata": {},
   "outputs": [],
   "source": [
    "len(fulldocIDs)"
   ]
  },
  {
   "cell_type": "code",
   "execution_count": null,
   "id": "d709626e",
   "metadata": {},
   "outputs": [],
   "source": [
    "for fulldocID in fulldocIDs:\n",
    "    print(fulldocID.split(\".txt\")[0].split(\"-\")[-1])"
   ]
  },
  {
   "cell_type": "code",
   "execution_count": null,
   "id": "c1bf07fe",
   "metadata": {},
   "outputs": [],
   "source": [
    "for fulldocID in fulldocIDs:\n",
    "    annotationResultQueryParams = {\n",
    "        \"owner\": \"herculespan\",\n",
    "        \"project\": projectName,\n",
    "        \"member\": annotator,\n",
    "        \"idType\": \"tagtogID\",\n",
    "        \"ids\": fulldocID,\n",
    "        \"output\": \"ann.json\"\n",
    "    }\n",
    "    annotationResultQueryResponse = requests.get(tagtogAPIUrl, auth = auth, params = annotationResultQueryParams)\n",
    "    for document in myCollection.find():\n",
    "        if fulldocID.split(\".txt\")[0].split(\"-\")[-1] == document[\"_id\"]:\n",
    "            print(fulldocID.split(\".txt\")[0].split(\"-\")[-1])\n",
    "            myCollection.update_one(document, {\"$set\": {\"annotationOffsets\": annotationResultQueryResponse.text}})"
   ]
  },
  {
   "cell_type": "code",
   "execution_count": null,
   "id": "fe676735",
   "metadata": {},
   "outputs": [],
   "source": [
    "#print(annotationResultQueryResponse.text)"
   ]
  },
  {
   "cell_type": "code",
   "execution_count": null,
   "id": "ab3e2fac",
   "metadata": {},
   "outputs": [],
   "source": [
    "for fulldocID in fulldocIDs:\n",
    "    annotationResultQueryParams = {\n",
    "        \"owner\": \"herculespan\",\n",
    "        \"project\": projectName,\n",
    "        \"member\": annotator,\n",
    "        \"idType\": \"tagtogID\",\n",
    "        \"ids\": fulldocID,\n",
    "        \"output\": \"entitiesonlyclassestsv\"\n",
    "    }\n",
    "    annotationResultQueryResponse = requests.get(tagtogAPIUrl, auth = auth, params = annotationResultQueryParams)\n",
    "    for document in myCollection.find():\n",
    "        if fulldocID.split(\".txt\")[0].split(\"-\")[-1] == document[\"_id\"]:\n",
    "            print(fulldocID.split(\".txt\")[0].split(\"-\")[-1])\n",
    "            myCollection.update_one(document, {\"$set\" :{\"entitiesonlyclassestsv\": annotationResultQueryResponse.text}})"
   ]
  },
  {
   "cell_type": "code",
   "execution_count": null,
   "id": "54346053",
   "metadata": {},
   "outputs": [],
   "source": [
    "#print(annotationResultQueryResponse.text)"
   ]
  },
  {
   "cell_type": "code",
   "execution_count": null,
   "id": "e3c84bb8",
   "metadata": {},
   "outputs": [],
   "source": [
    "for fulldocID in fulldocIDs:\n",
    "    annotationResultQueryParams = {\n",
    "        \"owner\": \"herculespan\",\n",
    "        \"project\": projectName,\n",
    "        \"member\": annotator,\n",
    "        \"idType\": \"tagtogID\",\n",
    "        \"ids\": fulldocID,\n",
    "        \"output\": \"entitiestsv\"\n",
    "    }\n",
    "    annotationResultQueryResponse = requests.get(tagtogAPIUrl, auth = auth, params = annotationResultQueryParams)\n",
    "    for document in myCollection.find():\n",
    "        if fulldocID.split(\".txt\")[0].split(\"-\")[-1] == document[\"_id\"]:\n",
    "            print(fulldocID.split(\".txt\")[0].split(\"-\")[-1])\n",
    "            myCollection.update_one(document, {\"$set\" :{\"entitiestsv\": annotationResultQueryResponse.text}})"
   ]
  }
 ],
 "metadata": {
  "kernelspec": {
   "display_name": "Python 3 (ipykernel)",
   "language": "python",
   "name": "python3"
  },
  "language_info": {
   "codemirror_mode": {
    "name": "ipython",
    "version": 3
   },
   "file_extension": ".py",
   "mimetype": "text/x-python",
   "name": "python",
   "nbconvert_exporter": "python",
   "pygments_lexer": "ipython3",
   "version": "3.9.7"
  }
 },
 "nbformat": 4,
 "nbformat_minor": 5
}
