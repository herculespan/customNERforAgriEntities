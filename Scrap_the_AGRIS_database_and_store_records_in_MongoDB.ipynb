{
 "cells": [
  {
   "cell_type": "code",
   "execution_count": 1,
   "id": "427f1c26",
   "metadata": {},
   "outputs": [],
   "source": [
    "import pymongo, re\n",
    "import requests\n",
    "import detectlanguage\n",
    "from bs4 import BeautifulSoup\n",
    "from deep_translator import GoogleTranslator"
   ]
  },
  {
   "cell_type": "code",
   "execution_count": 2,
   "id": "2838b8c3",
   "metadata": {},
   "outputs": [],
   "source": [
    "connectionStr = \"mongodb+srv://<username>:<password>.tj5ah.mongodb.net/testDatabase?retryWrites=true&w=majority\""
   ]
  },
  {
   "cell_type": "code",
   "execution_count": 3,
   "id": "454a74b8",
   "metadata": {},
   "outputs": [],
   "source": [
    "myClient = pymongo.MongoClient(connectionStr, serverSelectionTimeoutMS = 15000)"
   ]
  },
  {
   "cell_type": "code",
   "execution_count": 4,
   "id": "1b9397ba",
   "metadata": {},
   "outputs": [
    {
     "name": "stdout",
     "output_type": "stream",
     "text": [
      "{'version': '4.4.10', 'gitVersion': '58971da1ef93435a9f62bf4708a81713def6e88c', 'modules': ['enterprise'], 'allocator': 'tcmalloc', 'javascriptEngine': 'mozjs', 'sysInfo': 'deprecated', 'versionArray': [4, 4, 10, 0], 'openssl': {'running': 'OpenSSL 1.0.1e-fips 11 Feb 2013', 'compiled': 'OpenSSL 1.0.1e-fips 11 Feb 2013'}, 'buildEnvironment': {'distmod': 'rhel70', 'distarch': 'x86_64', 'cc': '/opt/mongodbtoolchain/v3/bin/gcc: gcc (GCC) 8.5.0', 'ccflags': '-fno-omit-frame-pointer -fno-strict-aliasing -fasynchronous-unwind-tables -ggdb -pthread -Wall -Wsign-compare -Wno-unknown-pragmas -Winvalid-pch -Werror -O2 -Wno-unused-local-typedefs -Wno-unused-function -Wno-deprecated-declarations -Wno-unused-const-variable -Wno-unused-but-set-variable -Wno-missing-braces -fstack-protector-strong -fno-builtin-memcmp', 'cxx': '/opt/mongodbtoolchain/v3/bin/g++: g++ (GCC) 8.5.0', 'cxxflags': '-Woverloaded-virtual -Wno-maybe-uninitialized -fsized-deallocation -std=c++17', 'linkflags': '-pthread -Wl,-z,now -rdynamic -Wl,--fatal-warnings -fstack-protector-strong -fuse-ld=gold -Wl,--no-threads -Wl,--build-id -Wl,--hash-style=gnu -Wl,-z,noexecstack -Wl,--warn-execstack -Wl,-z,relro -Wl,-rpath,/usr/lib64/perl5/CORE -Wl,-z,origin -Wl,--enable-new-dtags', 'target_arch': 'x86_64', 'target_os': 'linux', 'cppdefines': 'SAFEINT_USE_INTRINSICS 0 PCRE_STATIC NDEBUG _XOPEN_SOURCE 700 _GNU_SOURCE _FORTIFY_SOURCE 2 BOOST_THREAD_VERSION 5 BOOST_THREAD_USES_DATETIME BOOST_SYSTEM_NO_DEPRECATED BOOST_MATH_NO_LONG_DOUBLE_MATH_FUNCTIONS BOOST_ENABLE_ASSERT_DEBUG_HANDLER BOOST_LOG_NO_SHORTHAND_NAMES BOOST_LOG_USE_NATIVE_SYSLOG BOOST_LOG_WITHOUT_THREAD_ATTR ABSL_FORCE_ALIGNED_ACCESS'}, 'bits': 64, 'debug': False, 'maxBsonObjectSize': 16777216, 'storageEngines': ['biggie', 'devnull', 'ephemeralForTest', 'inMemory', 'queryable_wt', 'wiredTiger'], 'ok': 1.0, '$clusterTime': {'clusterTime': Timestamp(1641391003, 3), 'signature': {'hash': b'\\xe2\\xb0\\xcc\\xb8\\xd0\\x0e\\xd0nt*\\xee\\xbc\\x97\\x12\\xab\\x06\\xf0P\\xcd\\xa2', 'keyId': 7005629707509039105}}, 'operationTime': Timestamp(1641391003, 3)}\n"
     ]
    }
   ],
   "source": [
    "try:\n",
    "    print(myClient.server_info())\n",
    "except Exception:\n",
    "    print(\"Unable to establish connection to the server!\")"
   ]
  },
  {
   "cell_type": "code",
   "execution_count": 5,
   "id": "62a405d0",
   "metadata": {},
   "outputs": [],
   "source": [
    "mydb = myClient.testDatabase"
   ]
  },
  {
   "cell_type": "code",
   "execution_count": 6,
   "id": "573729f5",
   "metadata": {},
   "outputs": [
    {
     "name": "stdout",
     "output_type": "stream",
     "text": [
      "Type in the name of the collection to access: agrisDatasetCollection\n"
     ]
    }
   ],
   "source": [
    "collectionName = input(\"Type in the name of the collection to access: \")"
   ]
  },
  {
   "cell_type": "code",
   "execution_count": 7,
   "id": "273f80d9",
   "metadata": {},
   "outputs": [],
   "source": [
    "myCollection = mydb[collectionName]"
   ]
  },
  {
   "cell_type": "code",
   "execution_count": 8,
   "id": "3cfa454c",
   "metadata": {},
   "outputs": [],
   "source": [
    "baseUrl = \"https://agris.fao.org/agris-search/\""
   ]
  },
  {
   "cell_type": "code",
   "execution_count": 9,
   "id": "9648a907",
   "metadata": {},
   "outputs": [],
   "source": [
    "listOfAttrs = [\"citation_title\", \"citation_author\", \"citation_publication_date\", \"citation_publisher\", \"citation_abstract\"]"
   ]
  },
  {
   "cell_type": "code",
   "execution_count": 10,
   "id": "7ad1d148",
   "metadata": {},
   "outputs": [],
   "source": [
    "detectlanguage.configuration.api_key = \"my_key\""
   ]
  },
  {
   "cell_type": "code",
   "execution_count": 11,
   "id": "b105a2bd",
   "metadata": {},
   "outputs": [
    {
     "name": "stdout",
     "output_type": "stream",
     "text": [
      "Type in the name of the file to get the result URLs from: URLS_for_the_AGRIS_dataset\n"
     ]
    }
   ],
   "source": [
    "fileName = input(\"Type in the name of the file to get the result URLs from: \")"
   ]
  },
  {
   "cell_type": "code",
   "execution_count": 12,
   "id": "215582aa",
   "metadata": {},
   "outputs": [],
   "source": [
    "fullFileName = fileName + \".txt\""
   ]
  },
  {
   "cell_type": "code",
   "execution_count": 13,
   "id": "bb6ee7b5",
   "metadata": {},
   "outputs": [],
   "source": [
    "with open(fullFileName, \"r\") as file:\n",
    "    for line in file:\n",
    "        if len(line) != 0:\n",
    "            resourceInfoDict = {}\n",
    "            url = baseUrl + line.rstrip()\n",
    "            page = requests.get(url)\n",
    "            soup = BeautifulSoup(page.content, \"html.parser\")\n",
    "            urlComponents = url.split(\"=\")\n",
    "            resourceInfoDict[\"_id\"] = urlComponents[-1]\n",
    "            counter = 0\n",
    "            for attributeValue in listOfAttrs:\n",
    "                metaElements = soup.find_all(\"meta\", attrs = {\"name\": attributeValue})\n",
    "                for metaElement in metaElements:\n",
    "                    if attributeValue == \"citation_abstract\":\n",
    "                        if (len(metaElement[\"content\"]) < 5000) or (len(metaElement[\"content\"]) == 0):\n",
    "                            counter +=1\n",
    "                            languageUsed = detectlanguage.detect(metaElement[\"content\"])\n",
    "                            if languageUsed != \"en\":\n",
    "                                metaElement[\"content\"] = GoogleTranslator(source='auto', target='en').translate(metaElement[\"content\"])\n",
    "                            metaElement[\"content\"] = re.sub(\"<br />\", \" \", metaElement[\"content\"])\n",
    "                            metaElement[\"content\"] = re.sub(\"<[^<]+?>\", \" \", metaElement[\"content\"])\n",
    "                            metaElement[\"content\"] = re.sub(\" +\", \" \", metaElement[\"content\"])\n",
    "                            metaElement[\"content\"] = re.sub(r'''(?i)\\b((?:https?://|www\\d{0,3}[.]|[a-z0-9.\\-]+[.][a-z]{2,4}/)(?:[^\\s()<>]+|\\(([^\\s()<>]+|(\\([^\\s()<>]+\\)))*\\))+(?:\\(([^\\s()<>]+|(\\([^\\s()<>]+\\)))*\\)|[^\\s`!()\\[\\]{};:'\".,<>?«»“”‘’]))''', \" \", metaElement[\"content\"])\n",
    "                            metaElement[\"content\"] = metaElement[\"content\"].strip()\n",
    "                        else:\n",
    "                            metaElement[\"content\"] = \"\"\n",
    "                    resourceInfoDict[attributeValue] = metaElement[\"content\"]\n",
    "            myCollection.insert_one(resourceInfoDict)"
   ]
  },
  {
   "cell_type": "code",
   "execution_count": 14,
   "id": "6fa32fef",
   "metadata": {},
   "outputs": [],
   "source": [
    "file.close()"
   ]
  }
 ],
 "metadata": {
  "kernelspec": {
   "display_name": "Python 3 (ipykernel)",
   "language": "python",
   "name": "python3"
  },
  "language_info": {
   "codemirror_mode": {
    "name": "ipython",
    "version": 3
   },
   "file_extension": ".py",
   "mimetype": "text/x-python",
   "name": "python",
   "nbconvert_exporter": "python",
   "pygments_lexer": "ipython3",
   "version": "3.9.7"
  }
 },
 "nbformat": 4,
 "nbformat_minor": 5
}
