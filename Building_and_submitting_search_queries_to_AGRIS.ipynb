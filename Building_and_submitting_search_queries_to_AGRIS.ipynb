{
 "cells": [
  {
   "cell_type": "markdown",
   "id": "b50b3f8d",
   "metadata": {},
   "source": [
    "<h2>Building and submitting search queries to AGRIS</h2>\n",
    "<p>This script is used with the aim to <b>submit a search query</b> to the (<a href = https://agris.fao.org/agris-search/biblio.action?>AGRIS database</a>) and <b>retrieve the list of the URLs</b> (or a subset of the returned URLs) directing to the <b>search results</b>. The <b>result URLs</b> that are obtained are <b>stored in a txt file</b> in order to be used for <b>scraping the AGRIS database</b> for relevant content (i.e., <b>abstracts</b> of publications available from the specific database) to be <b>used for text annotation-related purposes</b>.</p>"
   ]
  },
  {
   "cell_type": "markdown",
   "id": "496b48dc",
   "metadata": {},
   "source": [
    "<p>The <b>first step</b> in the process of submitting a search query to the AGRIS database and receiving the result URLs is to <b>import the Python libraries and packages</b> that are <b>necessary</b> for the <b>execution of this task</b>.</p>"
   ]
  },
  {
   "cell_type": "code",
   "execution_count": 1,
   "id": "f794eb31",
   "metadata": {},
   "outputs": [],
   "source": [
    "import requests\n",
    "from bs4 import BeautifulSoup"
   ]
  },
  {
   "cell_type": "markdown",
   "id": "aea68342",
   "metadata": {},
   "source": [
    "<p>The <code>findNumOfTokens</code> function is <b>defined</b> and <b>used</b> with the aim to <b>enable the retrieval of the number of the search results</b> returned from the <b>submission</b> of the <b>query</b> to the <b>AGRIS database</b> (by making use of the <b>search parameters</b> presented and explained below).</p>"
   ]
  },
  {
   "cell_type": "code",
   "execution_count": 2,
   "id": "4a8854e6",
   "metadata": {},
   "outputs": [],
   "source": [
    "def findNumOfTokens(string):\n",
    "    numOfTokens = len(string.split())\n",
    "    return numOfTokens"
   ]
  },
  {
   "cell_type": "markdown",
   "id": "3a24027e",
   "metadata": {},
   "source": [
    "<p>When builing a search query to submit to the AGRIS database, there is a <b>list of search parameters</b> that <b>need to be configured</b>. In other words, these parameters need to be assigned the <b>values</b> that will be used for the <b>execution of the search task</b> and the <b>retrieval of the result URLs</b>. These parameters are the following: \n",
    "<ul><li> <b>subject</b> (i.e., the <b>subject of the results</b> to be identified and returned - what the text documents/abstracts to be eventually retrieved need to be about);</li>\n",
    "    <li> <b>result type</b> (AGRIS allows to execute searches <b>in regard to a list of predefined types</b>; these types are \"<code>Publications</code>\" and \"<code>Databsets</code>\");</li>\n",
    "    <li> <b>start year</b> (i.e., the <b>year from which results</b> for the search query should be <b>identified</b> and <b>returned</b>);</li>\n",
    "    <li> <b> end year</b> (i.e., the <b>year till which results</b> for the search query should be <b>identified</b> and <b>returned</b>);</li>\n",
    "    <li> <b>country name</b> (i.e., the <b>name of the country</b> that the <b>content of the resources</b> to be identifed and retrieved with the help of the search results <b>should relate to</b>); </li>\n",
    "    <li> <b>language</b> (i.e., the <b>language of the content of the resources</b> made available from the search results that are identified and retrieved);</li>\n",
    "    <li> <b>content type</b> (i.e., the <b>type of the content of the resources</b> -theses, journal papers, reports, etc.- made available from the search results that are identified and retrieved); </li>\n",
    "</ul>\n",
    "To build the search query by taking account of the values provided to the search parameters listed above (i.e., the <b>configurable part of the search query</b>), we <b>define</b> and <b>use</b> the <code>buildConfigurableQueryStr</code> function.</p> \n",
    "<p>The <b>input</b> provided <b>to the function</b> are the <b>values of the search parameters</b>. In addition, the function <b>takes into consideration</b> the <b>number of tokens</b> included <b>in the search query</b> when \"<b>constructing</b>\" <b>the value</b> to be finally provided to the <code>subject</code> parameter.</p>"
   ]
  },
  {
   "cell_type": "code",
   "execution_count": 3,
   "id": "070fb514",
   "metadata": {},
   "outputs": [],
   "source": [
    "def buildConfigurableQueryStr (subject, resultType, startYear, endYear, countryName, language, contentType):\n",
    "    \n",
    "    numOfTokensInSubj = findNumOfTokens(subject)\n",
    "    if numOfTokensInSubj == 1:\n",
    "        filterString = \"filterString=%2Bsubject%3A%28\" + subject + \"%29\"\n",
    "    else:\n",
    "        filterString = \"\"\n",
    "        for subjectToken in subject.split():\n",
    "            filterString = filterString + \"filterString=%2Bsubject%3A%28\" + subjectToken + \"%29\"\n",
    "    \n",
    "    typeresultsField = \"typeresultsField=\" + resultType\n",
    "    \n",
    "    fromDate = \"fromDate=\" + str(startYear)\n",
    "    toDate = \"toDate=\" + str(endYear)\n",
    "    \n",
    "    if countryName == \"0\":\n",
    "        country = \"country=\" + str(countryName)\n",
    "    else:\n",
    "        country = \"country=\" + countryName \n",
    "    \n",
    "    if language == \"0\":\n",
    "        lang = \"lang=\" + str(0)\n",
    "    else:\n",
    "        lang = \"lang=\" + language\n",
    "    \n",
    "    if contentType == \"0\":\n",
    "        typeToAdd = \"typeToAdd=\" + str(0)\n",
    "    else:\n",
    "        typeToAdd = \"typeToAdd=\" + contentType\n",
    "\n",
    "    configurableQueryStr = filterString + \"&\" + typeresultsField + \"&\" + fromDate + \"&\" + toDate + \"&\" + country + \"&\" + lang + \"&\" + typeToAdd\n",
    "    \n",
    "    return configurableQueryStr"
   ]
  },
  {
   "cell_type": "markdown",
   "id": "834e1622",
   "metadata": {},
   "source": [
    "<p>Apart from the configurable part of the search query to be submitted to the AGRIS database, there is also a <b>part of the search query</b> consisting of <b>parameters that receive default values</b> (more specifically, most of those parameters receive <b>no values at all</b>!).</p> \n",
    "<p>This part of the search query can be named as the <b>default part of the search query</b>. The <b>parameters</b> receiving no values at all or specific values by default are: (i) <code>agrovocString</code>; (ii) <code>agrovocToRemove</code>; (iii) <code>advQuery</code>; (iv) <code>centerString</code>; (v) <code>centerToRemove</code>; (vi) <code>filterToRemove</code>; (vii) <code>typeString</code>; (viii) <code>typeToRemove</code>; and (ix) <code>filterQuery</code>.</p>"
   ]
  },
  {
   "cell_type": "code",
   "execution_count": 4,
   "id": "ed2c8bbe",
   "metadata": {},
   "outputs": [],
   "source": [
    "def AGRISqueryBuilder ():\n",
    "    queryStr = \"\"\n",
    "   \n",
    "    # list of query parameters receiving no values\n",
    "    paramsWithNullValues = [\"agrovocString=\", \"agrovocToRemove=\", \"advQuery=\", \"centerString=\", \"centerToRemove=\", \n",
    "                            \"filterToRemove=\", \"typeString=\", \"typeToRemove=\", \"filterQuery=\"]\n",
    "\n",
    "    # concatenating the parameters with no values to start assemblying the AGRIS query string\n",
    "    for param in paramsWithNullValues:\n",
    "        queryStr = queryStr + param + \"&\"\n",
    "        \n",
    "    # list of query parameters with default values, such as onlyFullText, enableField and aggregatorField\n",
    "    # onlyFullText = false --> access resources that may not provide access to a full-text version!\n",
    "    # enableField = Disable --> multi-lingual search is disabled!\n",
    "    # aggregatorField = Disable --> include records from aggregators!\n",
    "    paramsWithDefaultValues = [\"onlyFullText=false\", \"operator=Required\", \"field=0\", \"enableField=Disable\", \n",
    "                              \"aggregatorField=Disable\"]\n",
    "    \n",
    "    for param in paramsWithDefaultValues:\n",
    "        queryStr = queryStr + param + \"&\"\n",
    "        \n",
    "    return queryStr"
   ]
  },
  {
   "cell_type": "markdown",
   "id": "de9ae044",
   "metadata": {},
   "source": [
    "<p>By calling the <code>AGRISqueryBuilder</code> function, we are able to <b>create the first part of the search query</b> that will be submitted to the AGRIS database (i.e., the <b>default part of the search query</b> containing the search parameters that receive default values or no value at all).</p>"
   ]
  },
  {
   "cell_type": "code",
   "execution_count": 5,
   "id": "2c589a3b",
   "metadata": {},
   "outputs": [],
   "source": [
    "queryStr_1 = AGRISqueryBuilder()"
   ]
  },
  {
   "cell_type": "markdown",
   "id": "85bd921e",
   "metadata": {},
   "source": [
    "<h4>Assignment of values to the search parameters to be used for creating the configurable part of the serch query</h4>"
   ]
  },
  {
   "cell_type": "markdown",
   "id": "4921d0ad",
   "metadata": {},
   "source": [
    "<p><b>Step 1</b>: Subject of the search query.</p>"
   ]
  },
  {
   "cell_type": "code",
   "execution_count": 6,
   "id": "b6598a56",
   "metadata": {},
   "outputs": [
    {
     "name": "stdout",
     "output_type": "stream",
     "text": [
      "Type in the subject of your search in AGRIS: agriculture\n"
     ]
    }
   ],
   "source": [
    "subject = input(\"Type in the subject of your search in AGRIS: \")"
   ]
  },
  {
   "cell_type": "markdown",
   "id": "4c472c9a",
   "metadata": {},
   "source": [
    "<p><b>Step 2</b>: <b>Type of the results</b> to be retrieved (namely: \"<b>Publications</b>\", \"<b>Datasets</b>\" or both).</p>"
   ]
  },
  {
   "cell_type": "code",
   "execution_count": 7,
   "id": "c87bc132",
   "metadata": {},
   "outputs": [
    {
     "name": "stdout",
     "output_type": "stream",
     "text": [
      "Type in the type of results (i.e., 'Publications', 'Datasets', 'Both') you are interested in: Publications\n"
     ]
    }
   ],
   "source": [
    "resultType = input(\"Type in the type of results (i.e., 'Publications', 'Datasets', 'Both') you are interested in: \")"
   ]
  },
  {
   "cell_type": "markdown",
   "id": "22a08918",
   "metadata": {},
   "source": [
    "<p><b>Step 3</b>: <b>Starting year</b> from which results should become available.</p>"
   ]
  },
  {
   "cell_type": "code",
   "execution_count": 8,
   "id": "756c18df",
   "metadata": {},
   "outputs": [
    {
     "name": "stdout",
     "output_type": "stream",
     "text": [
      "Find resources that have become available from this year and on: 2000\n"
     ]
    }
   ],
   "source": [
    " startYear = input(\"Find resources that have become available from this year and on: \")"
   ]
  },
  {
   "cell_type": "markdown",
   "id": "f8643f59",
   "metadata": {},
   "source": [
    "<p><b>Step 4</b>: <b>Year</b> till which results should become available (i.e., <b>end year</b>).</p>"
   ]
  },
  {
   "cell_type": "code",
   "execution_count": 9,
   "id": "f2848959",
   "metadata": {},
   "outputs": [
    {
     "name": "stdout",
     "output_type": "stream",
     "text": [
      "Find resources that have become available up until this year: 2021\n"
     ]
    }
   ],
   "source": [
    "endYear = input(\"Find resources that have become available up until this year: \")"
   ]
  },
  {
   "cell_type": "markdown",
   "id": "2fa3dbb2",
   "metadata": {},
   "source": [
    "<p><b>Step 5</b>: The <b>name of the country</b> that the <b>content of the resources</b> to be retrieved <b>should relate to</b>.</p>"
   ]
  },
  {
   "cell_type": "code",
   "execution_count": 10,
   "id": "6e8b1353",
   "metadata": {},
   "outputs": [
    {
     "name": "stdout",
     "output_type": "stream",
     "text": [
      "Type in the name of the country the resource's content relates to. If not relevant, provide 0 as a value: 0\n"
     ]
    }
   ],
   "source": [
    "countryName = input(\"Type in the name of the country the resource's content relates to. If not relevant, provide 0 as a value: \")"
   ]
  },
  {
   "cell_type": "markdown",
   "id": "60efd485",
   "metadata": {},
   "source": [
    "<p><b>Step 6</b>: The <b>language of the content</b> that will become available from the resources to be retreved.</p>"
   ]
  },
  {
   "cell_type": "code",
   "execution_count": 11,
   "id": "2f2af8ca",
   "metadata": {},
   "outputs": [
    {
     "name": "stdout",
     "output_type": "stream",
     "text": [
      "Type in the language in which content should be made available. In the case of no particular preference provide 0 as a value: English\n"
     ]
    }
   ],
   "source": [
    "language = input(\"Type in the language in which content should be made available. In the case of no particular preference provide 0 as a value: \")"
   ]
  },
  {
   "cell_type": "markdown",
   "id": "0ca15cd4",
   "metadata": {},
   "source": [
    "<p><b>Step 7</b>: The <b>type of the content</b> to be retrived (pertinent to the \"<b>Publications</b>\" result type - potential values are: theses, journal papers, reports, etc.).</p>"
   ]
  },
  {
   "cell_type": "code",
   "execution_count": 12,
   "id": "2df5aa00",
   "metadata": {},
   "outputs": [
    {
     "name": "stdout",
     "output_type": "stream",
     "text": [
      "Provide the type of content you are interested in (applies only to Publications). If not relevant, provide 0 as a value: 0\n"
     ]
    }
   ],
   "source": [
    "contentType = input(\"Provide the type of content you are interested in (applies only to Publications). If not relevant, provide 0 as a value: \")"
   ]
  },
  {
   "cell_type": "markdown",
   "id": "ab9bfbbe",
   "metadata": {},
   "source": [
    "<p>By calling the <code>buildConfigurableQueryStr</code> function, we are able to <b>create the second part of the search query</b> that will be submitted to the AGRIS database (i.e., the <b>configurable part of the search query</b> containing the values provided to the search parameters as part of the steps executed above).</p>"
   ]
  },
  {
   "cell_type": "code",
   "execution_count": 13,
   "id": "bba7243b",
   "metadata": {},
   "outputs": [],
   "source": [
    "queryStr_2 = buildConfigurableQueryStr(subject, resultType, startYear, endYear, countryName, language, contentType)"
   ]
  },
  {
   "cell_type": "markdown",
   "id": "bf13a7d6",
   "metadata": {},
   "source": [
    "<p>The <b>search query</b> (i.e., the <code>baseQueryStr</code>) is <b>built</b> by <b>concatenating</b> the <b>default</b> (i.e., <code>queryStr_1</code>) and the <b>configurable part</b> (<code>queryStr_2</code>) of it.</p>"
   ]
  },
  {
   "cell_type": "code",
   "execution_count": 14,
   "id": "b0da5b49",
   "metadata": {},
   "outputs": [],
   "source": [
    "baseQueryStr = queryStr_1 + queryStr_2"
   ]
  },
  {
   "cell_type": "markdown",
   "id": "631f3f02",
   "metadata": {},
   "source": [
    "<p><b>Display</b> the <b>search query</b> (i.e, the <code>baseQueryStr</code>) to be <b>finally submitted</b> to the AGRIS database.</p>"
   ]
  },
  {
   "cell_type": "code",
   "execution_count": 15,
   "id": "bc52e42a",
   "metadata": {},
   "outputs": [
    {
     "data": {
      "text/plain": [
       "'agrovocString=&agrovocToRemove=&advQuery=&centerString=&centerToRemove=&filterToRemove=&typeString=&typeToRemove=&filterQuery=&onlyFullText=false&operator=Required&field=0&enableField=Disable&aggregatorField=Disable&filterString=%2Bsubject%3A%28agriculture%29&typeresultsField=Publications&fromDate=2000&toDate=2021&country=0&lang=English&typeToAdd=0'"
      ]
     },
     "execution_count": 15,
     "metadata": {},
     "output_type": "execute_result"
    }
   ],
   "source": [
    "baseQueryStr"
   ]
  },
  {
   "cell_type": "markdown",
   "id": "e8360e21",
   "metadata": {},
   "source": [
    "<p>The constructed <b>search query gets submitted</b> to the AGRIS database.</p>"
   ]
  },
  {
   "cell_type": "code",
   "execution_count": 16,
   "id": "7ffc7eef",
   "metadata": {},
   "outputs": [],
   "source": [
    "response = requests.get(\"https://agris.fao.org/agris-search/biblio.do?\" + baseQueryStr)"
   ]
  },
  {
   "cell_type": "markdown",
   "id": "e86ed747",
   "metadata": {},
   "source": [
    "<p><b>Printing out</b> the <b><code>status code</code> of the response</b> provided to the <b>query that has been submitted</b> in order to <b>receive feedback</b> on whether the <b>query submission</b> has <b>been successful or not</b> (a <b>response value equal to <code>200</code></b> reveals a <b>successful</b> query submission attempt!).</p>"
   ]
  },
  {
   "cell_type": "code",
   "execution_count": 17,
   "id": "b4f310bb",
   "metadata": {},
   "outputs": [
    {
     "data": {
      "text/plain": [
       "200"
      ]
     },
     "execution_count": 17,
     "metadata": {},
     "output_type": "execute_result"
    }
   ],
   "source": [
    "response.status_code"
   ]
  },
  {
   "cell_type": "markdown",
   "id": "83f404eb",
   "metadata": {},
   "source": [
    "<h4>Parsing content</h4> \n",
    "<p> The <b>page of the AGRIS database</b> that has been <b>retrieved</b> and <b>contains the results</b> related to the submitted query is <b>parsed</b> with the aim to <b>fetch the number of the search results</b>.</p>\n",
    "<p>To do so, a <b>parsing object</b> (namely, an <code>instance</code> of the <code>BeautifulSoup</code> <b>class</b>) aiming to find the classes having the \"<code>pull-left grey-scale-1 last</code>\" label (this is the section/part of the results page where the number of the search results becomes available) is created. The <b>execution</b> of the <code>find</code> <b>method</b> called on the <b>parsing object</b> will allow to <b>get the record</b> in which the <b>number of the search results</b> is contained.</p>"
   ]
  },
  {
   "cell_type": "code",
   "execution_count": 18,
   "id": "f03a3634",
   "metadata": {},
   "outputs": [],
   "source": [
    "soup = BeautifulSoup(response.content, \"html.parser\")\n",
    "numOfResultsRecord = soup.find(\"div\", class_ = \"pull-left grey-scale-1 last\")"
   ]
  },
  {
   "cell_type": "markdown",
   "id": "df253adc",
   "metadata": {},
   "source": [
    "<p>The <b>number of the search results</b> is <b>eventually retrieved</b> by <b> splitting</b> the <b>respective record</b> into pieces and <b>retrieving the appropriate one</b> (i.e., <b>piece</b>) after <b>converting it to an integer</b>. A check is also made to <b>figure out the existence</b> of the \"<b>,</b>\" <b>character</b> in the <b>results' number</b>. If <b>this is the case</b>, the \",\" sign is <b>removed</b>.</p>"
   ]
  },
  {
   "cell_type": "code",
   "execution_count": 19,
   "id": "373f2816",
   "metadata": {},
   "outputs": [],
   "source": [
    "if \",\" in numOfResultsRecord.find(\"p\").find(\"strong\").text.split()[-1]:\n",
    "    numOfResults = int(numOfResultsRecord.find(\"p\").find(\"strong\").text.split()[-1].replace(\",\", \"\"))"
   ]
  },
  {
   "cell_type": "markdown",
   "id": "57cba929",
   "metadata": {},
   "source": [
    "<p><b>Displaying</b> the <b>number of the search results</b> that have been retrieved.</p>"
   ]
  },
  {
   "cell_type": "code",
   "execution_count": 20,
   "id": "93ae9c9f",
   "metadata": {},
   "outputs": [
    {
     "data": {
      "text/plain": [
       "912242"
      ]
     },
     "execution_count": 20,
     "metadata": {},
     "output_type": "execute_result"
    }
   ],
   "source": [
    "numOfResults"
   ]
  },
  {
   "cell_type": "markdown",
   "id": "92855a05",
   "metadata": {},
   "source": [
    "<p>A <b>quick check</b> is done to <b>make sure</b> that <b>there are indeed results that have been retrieved</b> from the <b>execution</b> of the <b>search query</b>. If the <b>number of search results is not 0</b>, then there is a <b>request</b> for the <b>number of the search results to keep</b> (in the case that there are too may and all of them are needed!).</p>"
   ]
  },
  {
   "cell_type": "code",
   "execution_count": 21,
   "id": "9f5ca5c7",
   "metadata": {},
   "outputs": [
    {
     "name": "stdout",
     "output_type": "stream",
     "text": [
      "Type in the number of results to keep: 1000\n"
     ]
    }
   ],
   "source": [
    "if numOfResults != 0:\n",
    "    numOfResultsToKeep = int(input(\"Type in the number of results to keep: \"))\n",
    "else:\n",
    "    print(\"No results have been found!\")"
   ]
  },
  {
   "cell_type": "markdown",
   "id": "93eff0e3",
   "metadata": {},
   "source": [
    "<p>The section of the script provided below is about the <b>calculation of the number of iterations</b> to be made in order to <b>skim through all the search results to be kept</b> (based on the number of the search results to be kept provided above). This part is necessary because of the fact the search results provided by the AGRIS database become available in batches of 10. The following cases are considered:\n",
    "<ul><li>The <b>number of the search results</b> that have been returned is <b>exactly 10</b>.</li>\n",
    "    <li>The <b>number of the search results</b> that have been returned is <b>more than 0 and less than 10</b>.</li>\n",
    "    <li>The <b>number of the search results</b> that have been returned is a <b>multiple of 10</b>.</li>\n",
    "    <li>The <b>number of the search results</b> that have been returned is <b>more than 10 but not an exact multiple of it</b>.</li>\n",
    "    </ul></p>"
   ]
  },
  {
   "cell_type": "code",
   "execution_count": 22,
   "id": "40852901",
   "metadata": {},
   "outputs": [],
   "source": [
    "if (numOfResultsToKeep // 10 == 1): \n",
    "    numOfIterations = 1\n",
    "elif (numOfResultsToKeep // 10 == 0) and (numOfResultsToKeep % 10 > 0 and numOfResultsToKeep % 10 < 10):\n",
    "    numOfIterations = 1\n",
    "else:\n",
    "    if numOfResultsToKeep % 10 == 0:\n",
    "        numOfIterations = numOfResultsToKeep // 10\n",
    "    else:\n",
    "        numOfIterations = (numOfResultsToKeep // 10) + 1"
   ]
  },
  {
   "cell_type": "markdown",
   "id": "e5859abf",
   "metadata": {},
   "source": [
    "<p><b>Priniting out</b> the <b>number of the iterations</b> that are <b>needed to retrieve</b> the <b>required number</b> of the <b>search result URLs</b>.</p>"
   ]
  },
  {
   "cell_type": "code",
   "execution_count": 23,
   "id": "881a3e2b",
   "metadata": {},
   "outputs": [
    {
     "data": {
      "text/plain": [
       "100"
      ]
     },
     "execution_count": 23,
     "metadata": {},
     "output_type": "execute_result"
    }
   ],
   "source": [
    "numOfIterations"
   ]
  },
  {
   "cell_type": "markdown",
   "id": "b6b75248",
   "metadata": {},
   "source": [
    "<p><b>Creating</b> a <b>text file</b> to <b>store</b> the <b>search result URLs</b>.</p>"
   ]
  },
  {
   "cell_type": "code",
   "execution_count": 24,
   "id": "fa62fff3",
   "metadata": {},
   "outputs": [
    {
     "name": "stdout",
     "output_type": "stream",
     "text": [
      "Type in the name of the file to use of storing the query result URLs: URLS_for_the_AGRIS_dataset\n"
     ]
    }
   ],
   "source": [
    "fileName = input(\"Type in the name of the file to use of storing the query result URLs: \")"
   ]
  },
  {
   "cell_type": "code",
   "execution_count": 25,
   "id": "af060f93",
   "metadata": {},
   "outputs": [],
   "source": [
    "fullFileName = fileName + \".txt\""
   ]
  },
  {
   "cell_type": "code",
   "execution_count": 26,
   "id": "f88c6284",
   "metadata": {},
   "outputs": [],
   "source": [
    "file = open (fullFileName, \"w\")"
   ]
  },
  {
   "cell_type": "markdown",
   "id": "f5dc62a7",
   "metadata": {},
   "source": [
    "<p><b>Iterating</b> over the search results, <b>retrieving</b> the <b>search result URLs</b>, and <b>writing</b>/<b>storing</b> the search result URLs into the text file. To execute the iteration, the <b>index</b> from which <b>results should be scanned from</b> is asked.</p>"
   ]
  },
  {
   "cell_type": "code",
   "execution_count": 27,
   "id": "d2c65be1",
   "metadata": {},
   "outputs": [
    {
     "name": "stdout",
     "output_type": "stream",
     "text": [
      "Index to start the retrival of search results from: 0\n"
     ]
    }
   ],
   "source": [
    "startIndex = int(input(\"Index to start the retrieval of search results from: \"))"
   ]
  },
  {
   "cell_type": "markdown",
   "id": "4fe77531",
   "metadata": {},
   "source": [
    "<p><b>Iteration over the search results</b> (from the index that has been provided and on) and <b>storage of the result URLs</b> that get retrieved into the text file.</p>"
   ]
  },
  {
   "cell_type": "code",
   "execution_count": 28,
   "id": "b9e55abb",
   "metadata": {},
   "outputs": [],
   "source": [
    "if numOfResultsToKeep >= 10:\n",
    "    if startIndex == 0:\n",
    "        iteration = 1\n",
    "        response = requests.get(\"https://agris.fao.org/agris-search/biblio.do?\" + baseQueryStr + \"&\" + \"startIndexSearch=\")\n",
    "        soup = BeautifulSoup(response.content, \"html.parser\")\n",
    "        resultUrls = soup.find_all(\"div\", class_=\"col-md-10 col-sm-10 col-xs-12 inner\")\n",
    "        for resultUrl in resultUrls:\n",
    "            url = resultUrl.find(\"a\")\n",
    "            file.write(url[\"href\"] + \"\\n\")\n",
    "        iteration +=1\n",
    "        while iteration <= numOfIterations:\n",
    "            startIndex += 10\n",
    "            response = requests.get(\"https://agris.fao.org/agris-search/biblio.do?\" + baseQueryStr + \"&\" + \"startIndexSearch=\" + str(startIndex))\n",
    "            soup = BeautifulSoup(response.content, \"html.parser\")\n",
    "            resultUrls = soup.find_all(\"div\", class_=\"col-md-10 col-sm-10 col-xs-12 inner\")\n",
    "            for resultUrl in resultUrls:\n",
    "                url = resultUrl.find(\"a\")\n",
    "                file.write(url[\"href\"] + \"\\n\")\n",
    "            iteration +=1\n",
    "    else:\n",
    "        iteration = 1\n",
    "        while iteration <= numOfIterations:\n",
    "            response = requests.get(\"https://agris.fao.org/agris-search/biblio.do?\" + baseQueryStr + \"&\" + \"startIndexSearch=\" + str(startIndex))\n",
    "            soup = BeautifulSoup(response.content, \"html.parser\")\n",
    "            resultUrls = soup.find_all(\"div\", class_=\"col-md-10 col-sm-10 col-xs-12 inner\")\n",
    "            for resultUrl in resultUrls:\n",
    "                url = resultUrl.find(\"a\")\n",
    "                file.write(url[\"href\"] + \"\\n\")\n",
    "            iteration += 1\n",
    "            startIndex +=10\n",
    "else:\n",
    "    if startIndex == 0:\n",
    "        response = requests.get(\"https://agris.fao.org/agris-search/biblio.do?\" + baseQueryStr + \"&\" + \"startIndexSearch=\")\n",
    "        soup = BeautifulSoup(response.content, \"html.parser\")\n",
    "        resultUrls = soup.find_all(\"div\", class_=\"col-md-10 col-sm-10 col-xs-12 inner\")\n",
    "        counter = 0\n",
    "        for resultUrl in resultUrls:\n",
    "            if counter < numOfResultsToKeep:\n",
    "                counter +=1\n",
    "                url = resultUrl.find(\"a\")\n",
    "                file.write(url[\"href\"] + \"\\n\")\n",
    "            else:\n",
    "                break\n",
    "    else:\n",
    "        response = requests.get(\"https://agris.fao.org/agris-search/biblio.do?\" + baseQueryStr + \"&\" + \"startIndexSearch=\" + str(startIndex))\n",
    "        soup = BeautifulSoup(response.content, \"html.parser\")\n",
    "        resultUrls = soup.find_all(\"div\", class_=\"col-md-10 col-sm-10 col-xs-12 inner\")\n",
    "        counter = 0\n",
    "        for resultUrl in resultUrls:\n",
    "            if counter < numOfResultsToKeep:\n",
    "                counter +=1\n",
    "                url = resultUrl.find(\"a\")\n",
    "                file.write(url[\"href\"] + \"\\n\")\n",
    "            else:\n",
    "                break"
   ]
  },
  {
   "cell_type": "markdown",
   "id": "504c1708",
   "metadata": {},
   "source": [
    "<p><b>Closing</b> the text file.</p>"
   ]
  },
  {
   "cell_type": "code",
   "execution_count": 29,
   "id": "90517147",
   "metadata": {},
   "outputs": [],
   "source": [
    "file.close()"
   ]
  }
 ],
 "metadata": {
  "kernelspec": {
   "display_name": "Python 3 (ipykernel)",
   "language": "python",
   "name": "python3"
  },
  "language_info": {
   "codemirror_mode": {
    "name": "ipython",
    "version": 3
   },
   "file_extension": ".py",
   "mimetype": "text/x-python",
   "name": "python",
   "nbconvert_exporter": "python",
   "pygments_lexer": "ipython3",
   "version": "3.9.7"
  }
 },
 "nbformat": 4,
 "nbformat_minor": 5
}
